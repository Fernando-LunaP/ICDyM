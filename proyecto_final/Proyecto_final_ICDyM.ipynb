{
  "nbformat": 4,
  "nbformat_minor": 0,
  "metadata": {
    "colab": {
      "provenance": [],
      "authorship_tag": "ABX9TyNYJk/tPwooFRBmqt3Jq5PN",
      "include_colab_link": true
    },
    "kernelspec": {
      "name": "python3",
      "display_name": "Python 3"
    },
    "language_info": {
      "name": "python"
    }
  },
  "cells": [
    {
      "cell_type": "markdown",
      "metadata": {
        "id": "view-in-github",
        "colab_type": "text"
      },
      "source": [
        "<a href=\"https://colab.research.google.com/github/Fernando-LunaP/ICDyM/blob/main/proyecto_final/Proyecto_final_ICDyM.ipynb\" target=\"_parent\"><img src=\"https://colab.research.google.com/assets/colab-badge.svg\" alt=\"Open In Colab\"/></a>"
      ]
    },
    {
      "cell_type": "markdown",
      "source": [
        "<center>\n",
        "<p><img src=\"https://mcd.unison.mx/wp-content/themes/awaken/img/logo_mcd.png\" width=\"150\">\n",
        "</p>\n",
        "\n",
        "\n",
        "\n",
        "<h1>Introducción a la Ciencia de Datos y sus Metodolgías</h1>\n",
        "\n",
        "<h3>Proyecto Final: Base de datos, procesamiento y análisis </h3>\n",
        "\n",
        "<p> Alumno </p>\n",
        "<p> Fernando Luna Ponce </p>\n",
        "\n",
        "<p> Profesor </p>\n",
        "<p> Dr. Juan Pablo Soto Barrera </p>\n",
        "\n",
        "</center>"
      ],
      "metadata": {
        "id": "sr_S9SBX8xB7"
      }
    },
    {
      "cell_type": "markdown",
      "source": [
        "En este proyecto vamos a analizar la cantidad de muertes por diabetes en el Estado de Sonora, para lo cual nos conectaremos con una instancia de MYSQL localizada en la nube de Amazon."
      ],
      "metadata": {
        "id": "k-K60MgFACnU"
      }
    },
    {
      "cell_type": "markdown",
      "source": [
        "# Librerías y funciones"
      ],
      "metadata": {
        "id": "TxPCJ2_7-ZKA"
      }
    },
    {
      "cell_type": "markdown",
      "source": [
        "Agregamos las librerías necesarias:"
      ],
      "metadata": {
        "id": "HpvllmyAASEs"
      }
    },
    {
      "cell_type": "code",
      "source": [
        "!pip install pymysql\n",
        "#!pip install mysql-connector-python # Conector mysql para python\n",
        "!pip install mysqlclient\n",
        "!pip install rarfile"
      ],
      "metadata": {
        "id": "PQS3w1tNB8V7"
      },
      "execution_count": null,
      "outputs": []
    },
    {
      "cell_type": "code",
      "source": [
        "#from mysql.connector import connect, Error # Para realizar conexiones con mysql\n",
        "import pymysql # Librería para conectar python con mysql\n",
        "import pandas as pd\n",
        "from sqlalchemy import create_engine # Librería para interactuar con bases de datos relacionales\n",
        "\n",
        "import os  # Para manejo de archivos y directorios\n",
        "import urllib.request # Una forma estandard de descargar datos\n",
        "# import requests # Otra forma no de las librerías de uso comun\n",
        "\n",
        "import datetime # Fecha de descarga\n",
        "import zipfile # Descompresión de archivos\n",
        "import csv # Para abrir csv\n",
        "import rarfile # Descompresión de archivos\n",
        "\n",
        "from bs4 import BeautifulSoup\n",
        "import requests\n",
        "\n",
        "import numpy as np\n",
        "\n",
        "import shutil # Para remover directorios"
      ],
      "metadata": {
        "id": "BtsBV5ZLBpbp"
      },
      "execution_count": null,
      "outputs": []
    },
    {
      "cell_type": "markdown",
      "source": [
        "Definimos algunas funciones que nos ayudarán a simplificar nuestro código"
      ],
      "metadata": {
        "id": "Q00DX0eUkLGO"
      }
    },
    {
      "cell_type": "code",
      "source": [
        "def descargadatos(url, archivo, subdir): #Para descargar un archivo\n",
        "  if not os.path.exists(archivo):\n",
        "    if not os.path.exists(subdir):\n",
        "        os.makedirs(subdir)\n",
        "    # Empezamos a descargar el primer archivo\n",
        "    urllib.request.urlretrieve(url, subdir + archivo)\n",
        "\n",
        "def descomprimeZip(subdir, archivo): # Descomprime el csv y le cambia el nombre\n",
        "    with zipfile.ZipFile(subdir + archivo, \"r\") as zip_ref:\n",
        "        zip_ref.extractall(subdir)\n",
        "\n",
        "def descomprimeRAR(subdir, archivo): # Descomprime el csv\n",
        "    with rarfile.RarFile(subdir + archivo, \"r\") as zip_ref:\n",
        "                zip_ref.extractall(subdir)"
      ],
      "metadata": {
        "id": "LFntJ36WmB-p"
      },
      "execution_count": null,
      "outputs": []
    },
    {
      "cell_type": "code",
      "source": [
        "def EjecutaSP(Sp, connString): # Ejecuta un procedimiento almacenado sin parámetros\n",
        "  # create cursor\n",
        "  connection = pymysql.connect(host=connString[2], port=connString[3],\n",
        "                         user=connString[0],\n",
        "                         password=connString[1],\n",
        "                         db=connString[4])   \n",
        "  cursor=connection.cursor()\n",
        "\n",
        "  try:\n",
        "    # Execute query\n",
        "    sql = \"call \" + Sp\n",
        "    cursor.execute(sql)\n",
        "\n",
        "    engine.dispose()\n",
        "    connection.close()\n",
        "    print('Procedimiento Ejecutado correctamente')\n",
        "  except:\n",
        "    engine.dispose()\n",
        "    connection.close()\n",
        "    print('Procedimiento No Ejecutado')   "
      ],
      "metadata": {
        "id": "dP9M482-h8X3"
      },
      "execution_count": null,
      "outputs": []
    },
    {
      "cell_type": "code",
      "source": [
        "def EjecutaConsulta(consulta, connString): # Ejecuta un procedimiento almacenado sin parámetros\n",
        "  # create cursor\n",
        "  connection = pymysql.connect(host=connString[2], port=connString[3],\n",
        "                         user=connString[0],\n",
        "                         password=connString[1],\n",
        "                         db=connString[4])   \n",
        "  cursor=connection.cursor()\n",
        "\n",
        "  validar = consulta[0:6].upper()\n",
        "  if validar != \"SELECT\":\n",
        "    return None\n",
        "\n",
        "  try:\n",
        "    # Execute query\n",
        "    sql = consulta\n",
        "    cursor.execute(sql)\n",
        "\n",
        "    # Fetch all the records\n",
        "    result = cursor.fetchall()\n",
        "    field_names = [i[0] for i in cursor.description]\n",
        "    df = pd.DataFrame(result, columns=field_names)\n",
        "    \n",
        "    engine.dispose()\n",
        "    connection.close()\n",
        "\n",
        "    return df\n",
        "  except:\n",
        "    engine.dispose()\n",
        "    connection.close()\n",
        "    return None"
      ],
      "metadata": {
        "id": "oL_4LbnzkUI1"
      },
      "execution_count": null,
      "outputs": []
    },
    {
      "cell_type": "markdown",
      "source": [
        "# Descargando los datos"
      ],
      "metadata": {
        "id": "5chMnqRJm9Ag"
      }
    },
    {
      "cell_type": "markdown",
      "source": [
        "**Descarga datos fuente defunciones:**"
      ],
      "metadata": {
        "id": "Go5ey9HvnCgj"
      }
    },
    {
      "cell_type": "markdown",
      "source": [
        "Descargamos los zip y le cambiamos el nombre, luego extraemos las carpetas que contiene y le cambiamos el nombre al csv que nos interesa."
      ],
      "metadata": {
        "id": "nceJ08n-nG6L"
      }
    },
    {
      "cell_type": "code",
      "source": [
        "url_2017 = \"https://www.inegi.org.mx/contenidos/programas/mortalidad/datosabiertos/defunciones/2017/conjunto_de_datos_defunciones_generales_2017_csv.zip\"\n",
        "url_2018 = \"https://www.inegi.org.mx/contenidos/programas/mortalidad/datosabiertos/defunciones/2018/conjunto_de_datos_defunciones_registradas_2018_csv.zip\"\n",
        "url_2019 = \"https://www.inegi.org.mx/contenidos/programas/mortalidad/datosabiertos/defunciones/2019/conjunto_de_datos_defunciones_registradas_2019_csv.zip\"\n",
        "url_2020 = \"https://www.inegi.org.mx/contenidos/programas/mortalidad/datosabiertos/defunciones/2020/conjunto_de_datos_defunciones_registradas_2020_csv.zip\"\n",
        "url_2021 = \"https://www.inegi.org.mx/contenidos/programas/mortalidad/datosabiertos/defunciones/2021/conjunto_de_datos_defunciones_registradas_2021_csv.zip\""
      ],
      "metadata": {
        "id": "HHfwP98nm-cZ"
      },
      "execution_count": null,
      "outputs": []
    },
    {
      "cell_type": "code",
      "source": [
        "ruta_archivos = \"./data/Archivos/\"\n",
        "if not os.path.exists(ruta_archivos):\n",
        "    os.makedirs(ruta_archivos)"
      ],
      "metadata": {
        "id": "keYfBbRqnN6W"
      },
      "execution_count": null,
      "outputs": []
    },
    {
      "cell_type": "code",
      "source": [
        "archivoZIP = \"Defunciones_\" + str(2017) + \".zip\"\n",
        "archivoCSV = \"Defunciones_\" + str(2017) + \".csv\"\n",
        "subdir = \"./data/fuente_1/\"\n",
        "\n",
        "descargadatos(url_2017, archivoZIP, subdir)\n",
        "descomprimeZip(subdir, archivoZIP)\n",
        "os.rename(subdir + 'conjunto_de_datos/conjunto_de_datos_defunciones_generales_2017.CSV', ruta_archivos + archivoCSV)"
      ],
      "metadata": {
        "id": "7jCN63tXnR9g"
      },
      "execution_count": null,
      "outputs": []
    },
    {
      "cell_type": "code",
      "source": [
        "archivoZIP = \"Defunciones_\" + str(2018) + \".zip\"\n",
        "archivoCSV = \"Defunciones_\" + str(2018) + \".csv\"\n",
        "subdir = \"./data/fuente_2/\"\n",
        "\n",
        "descargadatos(url_2018, archivoZIP, subdir)\n",
        "descomprimeZip(subdir, archivoZIP)\n",
        "os.rename(subdir + 'conjunto_de_datos/conjunto_de_datos_defunciones_registradas_2018.csv', ruta_archivos + archivoCSV)"
      ],
      "metadata": {
        "id": "nRJnnZ2QnUTv"
      },
      "execution_count": null,
      "outputs": []
    },
    {
      "cell_type": "code",
      "source": [
        "archivoZIP = \"Defunciones_\" + str(2019) + \".zip\"\n",
        "archivoCSV = \"Defunciones_\" + str(2019) + \".csv\"\n",
        "subdir = \"./data/fuente_3/\"\n",
        "\n",
        "descargadatos(url_2019, archivoZIP, subdir)\n",
        "descomprimeZip(subdir, archivoZIP)\n",
        "os.rename(subdir + 'conjunto_de_datos/conjunto_de_datos_defunciones_registradas_2019.CSV', ruta_archivos + archivoCSV)"
      ],
      "metadata": {
        "id": "oy91jVe3nYH4"
      },
      "execution_count": null,
      "outputs": []
    },
    {
      "cell_type": "code",
      "source": [
        "archivoZIP = \"Defunciones_\" + str(2020) + \".zip\"\n",
        "archivoCSV = \"Defunciones_\" + str(2020) + \".csv\"\n",
        "subdir = \"./data/fuente_4/\"\n",
        "\n",
        "descargadatos(url_2020, archivoZIP, subdir)\n",
        "descomprimeZip(subdir, archivoZIP)\n",
        "os.rename(subdir + 'conjunto_de_datos/conjunto_de_datos_defunciones_registrados_2020.csv', ruta_archivos + archivoCSV)"
      ],
      "metadata": {
        "id": "H4vHY-3_nbAy"
      },
      "execution_count": null,
      "outputs": []
    },
    {
      "cell_type": "code",
      "source": [
        "archivoZIP = \"Defunciones_\" + str(2021) + \".zip\"\n",
        "archivoCSV = \"Defunciones_\" + str(2021) + \".csv\"\n",
        "subdir = \"./data/fuente_5/\"\n",
        "\n",
        "descargadatos(url_2021, archivoZIP, subdir)\n",
        "descomprimeZip(subdir, archivoZIP)\n",
        "os.rename(subdir + 'conjunto_de_datos/conjunto_de_datos_defunciones_registradas_2021.csv', ruta_archivos + archivoCSV)"
      ],
      "metadata": {
        "id": "p_-VCQekneKK"
      },
      "execution_count": null,
      "outputs": []
    },
    {
      "cell_type": "markdown",
      "source": [
        "Guardamos los archivos en dataframes de pandas y verificamos su longitud"
      ],
      "metadata": {
        "id": "IST0TqBqnndd"
      }
    },
    {
      "cell_type": "code",
      "source": [
        "rawDataDefunciones2017 =  pd.read_csv(ruta_archivos + \"Defunciones_2017.csv\")\n",
        "print(\"Tamaño archivo 2017: \", rawDataDefunciones2017.shape)\n",
        "\n",
        "rawDataDefunciones2018 =  pd.read_csv(ruta_archivos + \"Defunciones_2018.csv\")\n",
        "print(\"Tamaño archivo 2018: \", rawDataDefunciones2018.shape)\n",
        "\n",
        "rawDataDefunciones2019 =  pd.read_csv(ruta_archivos + \"Defunciones_2019.csv\")\n",
        "print(\"Tamaño archivo 2019: \", rawDataDefunciones2019.shape)\n",
        "\n",
        "rawDataDefunciones2020 =  pd.read_csv(ruta_archivos + \"Defunciones_2020.csv\")\n",
        "print(\"Tamaño archivo 2020: \", rawDataDefunciones2020.shape)\n",
        "\n",
        "rawDataDefunciones2021 =  pd.read_csv(ruta_archivos + \"Defunciones_2021.csv\")\n",
        "print(\"Tamaño archivo 2021: \", rawDataDefunciones2021.shape)"
      ],
      "metadata": {
        "colab": {
          "base_uri": "https://localhost:8080/"
        },
        "id": "UxSba5V1npqg",
        "outputId": "80348ed5-7dda-4f66-9ed0-e5fe78e10f67"
      },
      "execution_count": null,
      "outputs": [
        {
          "output_type": "stream",
          "name": "stdout",
          "text": [
            "Tamaño archivo 2017:  (703047, 59)\n",
            "Tamaño archivo 2018:  (722611, 62)\n",
            "Tamaño archivo 2019:  (747784, 59)\n",
            "Tamaño archivo 2020:  (1086743, 59)\n",
            "Tamaño archivo 2021:  (1122249, 59)\n"
          ]
        }
      ]
    },
    {
      "cell_type": "markdown",
      "source": [
        "Debido a que son cientos de miles de registros, antes de guardarlos en la base de datos, primero vamos a filtrarlos para quedarnos solo con los registros correspondientes al Estado de Sonora"
      ],
      "metadata": {
        "id": "w0-BvEo-yAWL"
      }
    },
    {
      "cell_type": "code",
      "source": [
        "rawDataDefunciones2017 = rawDataDefunciones2017[rawDataDefunciones2017[\"ent_resid\"] == 26]\n",
        "print(rawDataDefunciones2017.shape)\n",
        "\n",
        "rawDataDefunciones2018 = rawDataDefunciones2018[rawDataDefunciones2018[\"ent_resid\"] == 26]\n",
        "print(rawDataDefunciones2018.shape)\n",
        "\n",
        "rawDataDefunciones2019 = rawDataDefunciones2019[rawDataDefunciones2019[\"ent_resid\"] == 26]\n",
        "print(rawDataDefunciones2019.shape)\n",
        "\n",
        "rawDataDefunciones2020 = rawDataDefunciones2020[rawDataDefunciones2020[\"ent_resid\"] == 26]\n",
        "print(rawDataDefunciones2020.shape)\n",
        "\n",
        "rawDataDefunciones2021 = rawDataDefunciones2021[rawDataDefunciones2021[\"ent_resid\"] == 26]\n",
        "print(rawDataDefunciones2021.shape)"
      ],
      "metadata": {
        "colab": {
          "base_uri": "https://localhost:8080/"
        },
        "id": "Y1h-vPZ0x_KK",
        "outputId": "bc20dee7-28d0-4d7b-c0f7-a870c722670e"
      },
      "execution_count": null,
      "outputs": [
        {
          "output_type": "stream",
          "name": "stdout",
          "text": [
            "(16729, 59)\n",
            "(17644, 62)\n",
            "(18485, 59)\n",
            "(27814, 59)\n",
            "(25273, 59)\n"
          ]
        }
      ]
    },
    {
      "cell_type": "markdown",
      "source": [
        "También necesitamos cargar los catálogos algunos catálogos ya que contienen la descripción de los valores de nuestras variables."
      ],
      "metadata": {
        "id": "-B2EYnAq1Yuz"
      }
    },
    {
      "cell_type": "code",
      "source": [
        "# Causa defunciones\n",
        "causaDef2017 = pd.read_csv('./data/fuente_1/catalogos/decatcausa.csv', encoding='latin-1')\n",
        "causaDef2018 = pd.read_csv('./data/fuente_2/catalogos/causa_defuncion.csv', encoding='latin-1')\n",
        "causaDef2019 = pd.read_csv('./data/fuente_3/catalogos/causa_defuncion.csv', encoding='latin-1')\n",
        "causaDef2020 = pd.read_csv('./data/fuente_4/catalogos/causa_defuncion.CSV', encoding='latin-1')\n",
        "causaDef2021 = pd.read_csv('./data/fuente_5/catalogos/causa_defuncion.CSV', encoding='latin-1')"
      ],
      "metadata": {
        "id": "2kN1vYpe1YEE"
      },
      "execution_count": null,
      "outputs": []
    },
    {
      "cell_type": "code",
      "source": [
        "ruta_archivos = \"./data/fuente_5/catalogos/\"\n",
        "tamanio_loc = pd.read_csv(ruta_archivos + 'tamaño_localidad.csv', encoding='latin-1')\n",
        "ocupacion = pd.read_csv(ruta_archivos + 'ocupacion.csv', encoding='latin-1')\n",
        "sexo = pd.read_csv(ruta_archivos + 'sexo.csv', encoding='latin-1')\n",
        "asist_medi = pd.read_csv(ruta_archivos + 'asistencia_medica.csv', encoding='latin-1')\n",
        "sitio_ocur = pd.read_csv(ruta_archivos + 'sitio_ocurrencia.csv', encoding='latin-1')\n",
        "lengua = pd.read_csv(ruta_archivos + 'lengua_indigena.csv', encoding='latin-1')"
      ],
      "metadata": {
        "id": "u8WgkHQq5mIf"
      },
      "execution_count": null,
      "outputs": []
    },
    {
      "cell_type": "markdown",
      "source": [
        "**Descarga datos municipios y habitantes Sonora 2020:**"
      ],
      "metadata": {
        "id": "0VvUlurGdnAV"
      }
    },
    {
      "cell_type": "markdown",
      "source": [
        "Nos interesó una tabla que contiene la información del número de habitantes en Sonora, pero no hay un archivo descargable, por lo que tenemos que hacer web scraping para poder descargar esa información."
      ],
      "metadata": {
        "id": "6w0IajKOd2kg"
      }
    },
    {
      "cell_type": "code",
      "source": [
        "url_cuentame = \"https://cuentame.inegi.org.mx/monografias/informacion/son/poblacion/default.aspx?tema=me&e=26\"\n",
        "page = requests.get(url_cuentame) # Realizamos la petición a la url solicitada\n",
        "soup = BeautifulSoup(page.content, 'html.parser') # Le damos formato html a la información\n",
        "\n",
        "tabla = soup.find('table', id=\"keywords2\")"
      ],
      "metadata": {
        "id": "S9Nk_edkdytd"
      },
      "execution_count": null,
      "outputs": []
    },
    {
      "cell_type": "code",
      "source": [
        "# Generamos listas para almacenar toda la información que deseamos almacenar\n",
        "listaCdMun = list()\n",
        "listaNbMun = list()\n",
        "listaCantidad = list()"
      ],
      "metadata": {
        "id": "5bNSC-zmd-g4"
      },
      "execution_count": null,
      "outputs": []
    },
    {
      "cell_type": "code",
      "source": [
        "filas = tabla.findAll('tr')\n",
        "for i in range(len(filas)):\n",
        "  if i > 0:\n",
        "    columnas = filas[i].findAll('td')\n",
        "    cd_municipio = columnas[0].string\n",
        "    listaCdMun.append(cd_municipio)\n",
        "    nb_municipio = columnas[1].string.replace('    ', ' ')\n",
        "    listaNbMun.append(nb_municipio)\n",
        "    nu_habitantes = columnas[2].string.replace(',', '')\n",
        "    listaCantidad.append(nu_habitantes)"
      ],
      "metadata": {
        "id": "NtugLiD7eBXv"
      },
      "execution_count": null,
      "outputs": []
    },
    {
      "cell_type": "code",
      "source": [
        "rawDataHabitantes = pd.DataFrame({\"Codigo_Municipio\":listaCdMun,\n",
        "                         \"Nombre_Municipio\":listaNbMun,\n",
        "                         \"Cantidad_Habitantes\":listaCantidad})\n",
        "rawDataHabitantes.shape"
      ],
      "metadata": {
        "colab": {
          "base_uri": "https://localhost:8080/"
        },
        "id": "dTwtm1R7fPy5",
        "outputId": "f260a199-3d13-461b-c5ee-d3cffbcbea56"
      },
      "execution_count": null,
      "outputs": [
        {
          "output_type": "execute_result",
          "data": {
            "text/plain": [
              "(72, 3)"
            ]
          },
          "metadata": {},
          "execution_count": 20
        }
      ]
    },
    {
      "cell_type": "markdown",
      "source": [
        "**Descarga datos Estimación de población Sonora:**"
      ],
      "metadata": {
        "id": "dTcWJaiCftTt"
      }
    },
    {
      "cell_type": "markdown",
      "source": [
        "Tenemos la información real de los habitantes de Sonora para el 2020, pero para otros años nos tenemos que basar en las estimaciones de la CONAPO"
      ],
      "metadata": {
        "id": "F1Jcs1qef25M"
      }
    },
    {
      "cell_type": "code",
      "source": [
        "url_conapo = \"http://www.conapo.gob.mx/work/models/CONAPO/Datos_Abiertos/Proyecciones2018/base_municipios_final_datos_02.rar\"\n"
      ],
      "metadata": {
        "id": "TBatbKzcf2Uc"
      },
      "execution_count": null,
      "outputs": []
    },
    {
      "cell_type": "code",
      "source": [
        "archivoRAR = \"Estimaciones_CONAPO.rar\"\n",
        "archivoCSV = \"Estimaciones_CONAPO.csv\"\n",
        "subdir = \"./data/conapo/\"\n",
        "\n",
        "descargadatos(url_conapo, archivoRAR, subdir)\n",
        "descomprimeRAR(subdir, archivoRAR)\n",
        "os.rename(subdir + 'base_municipios_final_datos_02.csv', ruta_archivos + archivoCSV)\n"
      ],
      "metadata": {
        "id": "bmtdHEcDhIRA"
      },
      "execution_count": null,
      "outputs": []
    },
    {
      "cell_type": "code",
      "source": [
        "rawDataEstimaciones =  pd.read_csv(ruta_archivos + \"Estimaciones_CONAPO.csv\", encoding='latin-1')\n",
        "print(\"Tamaño archivo Estimaciones: \", rawDataEstimaciones.shape)\n",
        "\n",
        "rawDataEstimaciones = rawDataEstimaciones[rawDataEstimaciones[\"CLAVE_ENT\"] == 26]\n",
        "print(rawDataEstimaciones.shape)"
      ],
      "metadata": {
        "colab": {
          "base_uri": "https://localhost:8080/"
        },
        "id": "dgIXn4KqsUzL",
        "outputId": "804f9fa8-b455-4f82-c4aa-76ba98cb3c9d"
      },
      "execution_count": null,
      "outputs": [
        {
          "output_type": "stream",
          "name": "stdout",
          "text": [
            "Tamaño archivo Estimaciones:  (653632, 9)\n",
            "(32256, 9)\n"
          ]
        }
      ]
    },
    {
      "cell_type": "markdown",
      "source": [
        "# Importando los datos a una base de datos MYSQL"
      ],
      "metadata": {
        "id": "C6HqZdG7dicV"
      }
    },
    {
      "cell_type": "markdown",
      "source": [
        "Para interactuar con una base de datos, primero se debe contar con un motor (Engine), el cual se encarga de administrar los llamados que se realizan para el almacenamiento y recuperación de información, y sobre el que se especifican los datos para el uso de la base de datos."
      ],
      "metadata": {
        "id": "TsZQDGKyBZAc"
      }
    },
    {
      "cell_type": "markdown",
      "source": [
        "Para realizar nuestra conexión a una instancia de mysql localizada en Amazon Cloud, utilizaremos la librería SQLAlchemy para crear un motor. "
      ],
      "metadata": {
        "id": "t_nOoGmmvaRr"
      }
    },
    {
      "cell_type": "markdown",
      "source": [
        "Almacenamos la información necesaria para acceder a la base de datos"
      ],
      "metadata": {
        "id": "aDoms8vPSlvn"
      }
    },
    {
      "cell_type": "code",
      "source": [
        "myUser = 'user'\n",
        "myPass = 'micontraseña'\n",
        "myEndpoint = 'mydb.123456789012.us-east-1.rds.amazonaws.com' # Endpoint, para base local es localhost\n",
        "myPort = 3306\n",
        "myDb = 'Diabetes'\n",
        "\n",
        "myDataConnect = [myUser, myPass, myEndpoint, myPort, myDb]"
      ],
      "metadata": {
        "id": "2Cojl-aCQIm8"
      },
      "execution_count": null,
      "outputs": []
    },
    {
      "cell_type": "code",
      "execution_count": null,
      "metadata": {
        "id": "XBcBqDhx_9PP"
      },
      "outputs": [],
      "source": [
        "db_data = 'mysql+mysqldb://' + 'user' + ':' + 'micontraseña' + '@' + 'mydb.123456789012.us-east-1.rds.amazonaws.com' + ':3306/' \\\n",
        "       + 'Diabetes'\n",
        "engine = create_engine(db_data)"
      ]
    },
    {
      "cell_type": "markdown",
      "source": [
        "Una vez que tenemos creado nuestro motor, vamos a utilizar la función de pandas para insertar los datos de nuestras tabla en nuestra bd, con la función to_sql estaremos guardando cada dataframe en una tabla diferente."
      ],
      "metadata": {
        "id": "JAkOFxUkwQRo"
      }
    },
    {
      "cell_type": "code",
      "source": [
        "# Execute the to_sql for writting DF into SQL\n",
        "rawDataDefunciones2017.to_sql('rawDataDefunciones2017', engine, if_exists='replace', index=False)\n",
        "rawDataDefunciones2018.to_sql('rawDataDefunciones2018', engine, if_exists='replace', index=False)\n",
        "rawDataDefunciones2019.to_sql('rawDataDefunciones2019', engine, if_exists='replace', index=False)\n",
        "rawDataDefunciones2020.to_sql('rawDataDefunciones2020', engine, if_exists='replace', index=False)\n",
        "rawDataDefunciones2021.to_sql('rawDataDefunciones2021', engine, if_exists='replace', index=False)\n",
        "rawDataHabitantes.to_sql('rawDataHabitantes', engine, if_exists='replace', index=False)\n",
        "rawDataEstimaciones.to_sql('rawDataEstimaciones', engine, if_exists='replace', index=False)"
      ],
      "metadata": {
        "id": "dYdUOUZawNue"
      },
      "execution_count": null,
      "outputs": []
    },
    {
      "cell_type": "code",
      "source": [
        "causaDef2017.to_sql('causaDef2017', engine, if_exists='replace', index=False)\n",
        "causaDef2018.to_sql('causaDef2018', engine, if_exists='replace', index=False)\n",
        "causaDef2019.to_sql('causaDef2019', engine, if_exists='replace', index=False)\n",
        "causaDef2020.to_sql('causaDef2020', engine, if_exists='replace', index=False)\n",
        "causaDef2021.to_sql('causaDef2021', engine, if_exists='replace', index=False)\n",
        "\n",
        "tamanio_loc.to_sql('tamanio_loc', engine, if_exists='replace', index=False)\n",
        "ocupacion.to_sql('ocupacion', engine, if_exists='replace', index=False)\n",
        "sexo.to_sql('sexo', engine, if_exists='replace', index=False)\n",
        "asist_medi.to_sql('asist_medi', engine, if_exists='replace', index=False)\n",
        "sitio_ocur.to_sql('sitio_ocur', engine, if_exists='replace', index=False)\n",
        "lengua.to_sql('lengua', engine, if_exists='replace', index=False)"
      ],
      "metadata": {
        "id": "AAIj1MJ76v2V"
      },
      "execution_count": null,
      "outputs": []
    },
    {
      "cell_type": "markdown",
      "source": [
        "# Trabajando con MYSQL"
      ],
      "metadata": {
        "id": "mrMeXx_twFHG"
      }
    },
    {
      "cell_type": "markdown",
      "source": [
        "En esta parte vamos a mandar ejecutar algunos procedimientos almacenados que se generaron en la base de datos y que nos servirán para realizar el procesamiento de nuestros datos."
      ],
      "metadata": {
        "id": "G5KSa4aAOhj8"
      }
    },
    {
      "cell_type": "code",
      "source": [
        "# Actualiza los días fuera de rango\n",
        "sp = 'Limpia_Datos()'\n",
        "EjecutaSP(sp, myDataConnect)"
      ],
      "metadata": {
        "colab": {
          "base_uri": "https://localhost:8080/"
        },
        "id": "AlnSs1S-b8k3",
        "outputId": "efec81ae-1c90-4353-a714-d1221905a4ef"
      },
      "execution_count": null,
      "outputs": [
        {
          "output_type": "stream",
          "name": "stdout",
          "text": [
            "Procedimiento Ejecutado correctamente\n"
          ]
        }
      ]
    },
    {
      "cell_type": "code",
      "source": [
        "# Modifica la clave de la edad para obtener el valor edad, ejemplo 4020 se comvierte a 20\n",
        "sp = 'Actualiza_Edad()'\n",
        "EjecutaSP(sp, myDataConnect)"
      ],
      "metadata": {
        "colab": {
          "base_uri": "https://localhost:8080/"
        },
        "id": "Wgb1ZeWiinz6",
        "outputId": "f012f58d-c8b3-4170-9dc3-79564a5544de"
      },
      "execution_count": null,
      "outputs": [
        {
          "output_type": "stream",
          "name": "stdout",
          "text": [
            "Procedimiento Ejecutado correctamente\n"
          ]
        }
      ]
    },
    {
      "cell_type": "code",
      "source": [
        "# Almacena los datos de las defunciones por diabetes en una sola tabla\n",
        "sp = 'Unir_Datos()'\n",
        "EjecutaSP(sp, myDataConnect)"
      ],
      "metadata": {
        "colab": {
          "base_uri": "https://localhost:8080/"
        },
        "id": "jD0cT6MBi1qy",
        "outputId": "3baed25e-6def-43bc-b2c1-9f7805fa92a5"
      },
      "execution_count": null,
      "outputs": [
        {
          "output_type": "stream",
          "name": "stdout",
          "text": [
            "Procedimiento Ejecutado correctamente\n"
          ]
        }
      ]
    },
    {
      "cell_type": "code",
      "source": [
        "# Genera el catálogo de municipios y el de cantidad de habitantes por municipio y año\n",
        "sp = 'Genera_datos_pob()'\n",
        "EjecutaSP(sp, myDataConnect)"
      ],
      "metadata": {
        "colab": {
          "base_uri": "https://localhost:8080/"
        },
        "id": "F80nC_1Ki2iQ",
        "outputId": "8ae3bf98-dfb0-4436-c8a2-001767cb3511"
      },
      "execution_count": null,
      "outputs": [
        {
          "output_type": "stream",
          "name": "stdout",
          "text": [
            "Procedimiento Ejecutado correctamente\n"
          ]
        }
      ]
    },
    {
      "cell_type": "markdown",
      "source": [
        "# Obteniendo información de la base de datos"
      ],
      "metadata": {
        "id": "4xNEjMh6rW0z"
      }
    },
    {
      "cell_type": "markdown",
      "source": [
        "Hacemos una consulta que nos traiga toda la información de la vista vw_Reporte que nos va a traer toda la información que nos interesa de las defunciones por diabetes, con las variables ya sustituidas por su descripción"
      ],
      "metadata": {
        "id": "cg897u50rd63"
      }
    },
    {
      "cell_type": "code",
      "source": [
        "sql = \"Select * from Diabetes.vw_Reporte;\"\n",
        "df_Reporte = EjecutaConsulta(sql, myDataConnect)\n",
        "df_Reporte.head()"
      ],
      "metadata": {
        "colab": {
          "base_uri": "https://localhost:8080/",
          "height": 337
        },
        "id": "ogodibx7vEUJ",
        "outputId": "30997270-5c64-4eaf-a26e-7a3aa8dce77c"
      },
      "execution_count": null,
      "outputs": [
        {
          "output_type": "execute_result",
          "data": {
            "text/plain": [
              "    Id  Anio Fecha_Registro       Nombre             Tamanio_Localidad  \\\n",
              "0   79  2017     2017-01-01   Hermosillo  500 000 a 999 999 habitantes   \n",
              "1  160  2017     2017-01-01  Agua Prieta    75 000 a 99 999 habitantes   \n",
              "2  184  2017     2017-01-01   Hermosillo  500 000 a 999 999 habitantes   \n",
              "3  190  2017     2017-01-01      Nogales  100 000 a 249 999 habitantes   \n",
              "4  221  2017     2017-01-01   Hermosillo  500 000 a 999 999 habitantes   \n",
              "\n",
              "     Sexo                                          Ocupacion  Edad  \\\n",
              "0   Mujer                                         No trabaja    69   \n",
              "1   Mujer                                         No trabaja    56   \n",
              "2  Hombre                                         No trabaja    64   \n",
              "3  Hombre  Operadores de maquinaria industrial, ensamblad...    73   \n",
              "4  Hombre                           Trabajadores artesanales    49   \n",
              "\n",
              "       Asistencia_Medica Sitio_Ocurrencia Lengua_Indigena  \n",
              "0  Sin asistencia médica            Hogar              No  \n",
              "1  Con asistencia médica             IMSS              No  \n",
              "2  Sin asistencia médica            Hogar              No  \n",
              "3  Con asistencia médica            Hogar              No  \n",
              "4  Sin asistencia médica       Otro lugar              No  "
            ],
            "text/html": [
              "\n",
              "  <div id=\"df-6d6706d6-5126-4ff9-8d9f-3053f3f5dacd\">\n",
              "    <div class=\"colab-df-container\">\n",
              "      <div>\n",
              "<style scoped>\n",
              "    .dataframe tbody tr th:only-of-type {\n",
              "        vertical-align: middle;\n",
              "    }\n",
              "\n",
              "    .dataframe tbody tr th {\n",
              "        vertical-align: top;\n",
              "    }\n",
              "\n",
              "    .dataframe thead th {\n",
              "        text-align: right;\n",
              "    }\n",
              "</style>\n",
              "<table border=\"1\" class=\"dataframe\">\n",
              "  <thead>\n",
              "    <tr style=\"text-align: right;\">\n",
              "      <th></th>\n",
              "      <th>Id</th>\n",
              "      <th>Anio</th>\n",
              "      <th>Fecha_Registro</th>\n",
              "      <th>Nombre</th>\n",
              "      <th>Tamanio_Localidad</th>\n",
              "      <th>Sexo</th>\n",
              "      <th>Ocupacion</th>\n",
              "      <th>Edad</th>\n",
              "      <th>Asistencia_Medica</th>\n",
              "      <th>Sitio_Ocurrencia</th>\n",
              "      <th>Lengua_Indigena</th>\n",
              "    </tr>\n",
              "  </thead>\n",
              "  <tbody>\n",
              "    <tr>\n",
              "      <th>0</th>\n",
              "      <td>79</td>\n",
              "      <td>2017</td>\n",
              "      <td>2017-01-01</td>\n",
              "      <td>Hermosillo</td>\n",
              "      <td>500 000 a 999 999 habitantes</td>\n",
              "      <td>Mujer</td>\n",
              "      <td>No trabaja</td>\n",
              "      <td>69</td>\n",
              "      <td>Sin asistencia médica</td>\n",
              "      <td>Hogar</td>\n",
              "      <td>No</td>\n",
              "    </tr>\n",
              "    <tr>\n",
              "      <th>1</th>\n",
              "      <td>160</td>\n",
              "      <td>2017</td>\n",
              "      <td>2017-01-01</td>\n",
              "      <td>Agua Prieta</td>\n",
              "      <td>75 000 a 99 999 habitantes</td>\n",
              "      <td>Mujer</td>\n",
              "      <td>No trabaja</td>\n",
              "      <td>56</td>\n",
              "      <td>Con asistencia médica</td>\n",
              "      <td>IMSS</td>\n",
              "      <td>No</td>\n",
              "    </tr>\n",
              "    <tr>\n",
              "      <th>2</th>\n",
              "      <td>184</td>\n",
              "      <td>2017</td>\n",
              "      <td>2017-01-01</td>\n",
              "      <td>Hermosillo</td>\n",
              "      <td>500 000 a 999 999 habitantes</td>\n",
              "      <td>Hombre</td>\n",
              "      <td>No trabaja</td>\n",
              "      <td>64</td>\n",
              "      <td>Sin asistencia médica</td>\n",
              "      <td>Hogar</td>\n",
              "      <td>No</td>\n",
              "    </tr>\n",
              "    <tr>\n",
              "      <th>3</th>\n",
              "      <td>190</td>\n",
              "      <td>2017</td>\n",
              "      <td>2017-01-01</td>\n",
              "      <td>Nogales</td>\n",
              "      <td>100 000 a 249 999 habitantes</td>\n",
              "      <td>Hombre</td>\n",
              "      <td>Operadores de maquinaria industrial, ensamblad...</td>\n",
              "      <td>73</td>\n",
              "      <td>Con asistencia médica</td>\n",
              "      <td>Hogar</td>\n",
              "      <td>No</td>\n",
              "    </tr>\n",
              "    <tr>\n",
              "      <th>4</th>\n",
              "      <td>221</td>\n",
              "      <td>2017</td>\n",
              "      <td>2017-01-01</td>\n",
              "      <td>Hermosillo</td>\n",
              "      <td>500 000 a 999 999 habitantes</td>\n",
              "      <td>Hombre</td>\n",
              "      <td>Trabajadores artesanales</td>\n",
              "      <td>49</td>\n",
              "      <td>Sin asistencia médica</td>\n",
              "      <td>Otro lugar</td>\n",
              "      <td>No</td>\n",
              "    </tr>\n",
              "  </tbody>\n",
              "</table>\n",
              "</div>\n",
              "      <button class=\"colab-df-convert\" onclick=\"convertToInteractive('df-6d6706d6-5126-4ff9-8d9f-3053f3f5dacd')\"\n",
              "              title=\"Convert this dataframe to an interactive table.\"\n",
              "              style=\"display:none;\">\n",
              "        \n",
              "  <svg xmlns=\"http://www.w3.org/2000/svg\" height=\"24px\"viewBox=\"0 0 24 24\"\n",
              "       width=\"24px\">\n",
              "    <path d=\"M0 0h24v24H0V0z\" fill=\"none\"/>\n",
              "    <path d=\"M18.56 5.44l.94 2.06.94-2.06 2.06-.94-2.06-.94-.94-2.06-.94 2.06-2.06.94zm-11 1L8.5 8.5l.94-2.06 2.06-.94-2.06-.94L8.5 2.5l-.94 2.06-2.06.94zm10 10l.94 2.06.94-2.06 2.06-.94-2.06-.94-.94-2.06-.94 2.06-2.06.94z\"/><path d=\"M17.41 7.96l-1.37-1.37c-.4-.4-.92-.59-1.43-.59-.52 0-1.04.2-1.43.59L10.3 9.45l-7.72 7.72c-.78.78-.78 2.05 0 2.83L4 21.41c.39.39.9.59 1.41.59.51 0 1.02-.2 1.41-.59l7.78-7.78 2.81-2.81c.8-.78.8-2.07 0-2.86zM5.41 20L4 18.59l7.72-7.72 1.47 1.35L5.41 20z\"/>\n",
              "  </svg>\n",
              "      </button>\n",
              "      \n",
              "  <style>\n",
              "    .colab-df-container {\n",
              "      display:flex;\n",
              "      flex-wrap:wrap;\n",
              "      gap: 12px;\n",
              "    }\n",
              "\n",
              "    .colab-df-convert {\n",
              "      background-color: #E8F0FE;\n",
              "      border: none;\n",
              "      border-radius: 50%;\n",
              "      cursor: pointer;\n",
              "      display: none;\n",
              "      fill: #1967D2;\n",
              "      height: 32px;\n",
              "      padding: 0 0 0 0;\n",
              "      width: 32px;\n",
              "    }\n",
              "\n",
              "    .colab-df-convert:hover {\n",
              "      background-color: #E2EBFA;\n",
              "      box-shadow: 0px 1px 2px rgba(60, 64, 67, 0.3), 0px 1px 3px 1px rgba(60, 64, 67, 0.15);\n",
              "      fill: #174EA6;\n",
              "    }\n",
              "\n",
              "    [theme=dark] .colab-df-convert {\n",
              "      background-color: #3B4455;\n",
              "      fill: #D2E3FC;\n",
              "    }\n",
              "\n",
              "    [theme=dark] .colab-df-convert:hover {\n",
              "      background-color: #434B5C;\n",
              "      box-shadow: 0px 1px 3px 1px rgba(0, 0, 0, 0.15);\n",
              "      filter: drop-shadow(0px 1px 2px rgba(0, 0, 0, 0.3));\n",
              "      fill: #FFFFFF;\n",
              "    }\n",
              "  </style>\n",
              "\n",
              "      <script>\n",
              "        const buttonEl =\n",
              "          document.querySelector('#df-6d6706d6-5126-4ff9-8d9f-3053f3f5dacd button.colab-df-convert');\n",
              "        buttonEl.style.display =\n",
              "          google.colab.kernel.accessAllowed ? 'block' : 'none';\n",
              "\n",
              "        async function convertToInteractive(key) {\n",
              "          const element = document.querySelector('#df-6d6706d6-5126-4ff9-8d9f-3053f3f5dacd');\n",
              "          const dataTable =\n",
              "            await google.colab.kernel.invokeFunction('convertToInteractive',\n",
              "                                                     [key], {});\n",
              "          if (!dataTable) return;\n",
              "\n",
              "          const docLinkHtml = 'Like what you see? Visit the ' +\n",
              "            '<a target=\"_blank\" href=https://colab.research.google.com/notebooks/data_table.ipynb>data table notebook</a>'\n",
              "            + ' to learn more about interactive tables.';\n",
              "          element.innerHTML = '';\n",
              "          dataTable['output_type'] = 'display_data';\n",
              "          await google.colab.output.renderOutput(dataTable, element);\n",
              "          const docLink = document.createElement('div');\n",
              "          docLink.innerHTML = docLinkHtml;\n",
              "          element.appendChild(docLink);\n",
              "        }\n",
              "      </script>\n",
              "    </div>\n",
              "  </div>\n",
              "  "
            ]
          },
          "metadata": {},
          "execution_count": 32
        }
      ]
    },
    {
      "cell_type": "markdown",
      "source": [
        "Obtendremos la información de la vista vw_Mortalidad con la información de la mortalidad por diabetes por cada 100,000 habitantes por cada municipio del Estado de Sonora."
      ],
      "metadata": {
        "id": "CLQeFKpUwsnR"
      }
    },
    {
      "cell_type": "code",
      "source": [
        "sql = \"Select * from Diabetes.vw_Mortalidad where Anio=2020 order by Mortalidad desc;\"\n",
        "df_Mortalidad = EjecutaConsulta(sql, myDataConnect)\n",
        "df_Mortalidad.head()"
      ],
      "metadata": {
        "colab": {
          "base_uri": "https://localhost:8080/",
          "height": 206
        },
        "id": "JUNUMCNwxKAe",
        "outputId": "81aeb7ae-327b-4f6d-ddd8-b218ae9ded5f"
      },
      "execution_count": null,
      "outputs": [
        {
          "output_type": "execute_result",
          "data": {
            "text/plain": [
              "   Cd_Municipio Nombre_Municipio  Anio  Cant_Muertes Mortalidad\n",
              "0             9         Bacanora  2020             3     395.26\n",
              "1            65         Tubutama  2020             5     339.44\n",
              "2            32         Huásabas  2020             3     337.84\n",
              "3             7             Atil  2020             2     319.49\n",
              "4            67    Villa Hidalgo  2020             4     279.92"
            ],
            "text/html": [
              "\n",
              "  <div id=\"df-fad20f45-eb67-42e6-b447-d52cff7f8899\">\n",
              "    <div class=\"colab-df-container\">\n",
              "      <div>\n",
              "<style scoped>\n",
              "    .dataframe tbody tr th:only-of-type {\n",
              "        vertical-align: middle;\n",
              "    }\n",
              "\n",
              "    .dataframe tbody tr th {\n",
              "        vertical-align: top;\n",
              "    }\n",
              "\n",
              "    .dataframe thead th {\n",
              "        text-align: right;\n",
              "    }\n",
              "</style>\n",
              "<table border=\"1\" class=\"dataframe\">\n",
              "  <thead>\n",
              "    <tr style=\"text-align: right;\">\n",
              "      <th></th>\n",
              "      <th>Cd_Municipio</th>\n",
              "      <th>Nombre_Municipio</th>\n",
              "      <th>Anio</th>\n",
              "      <th>Cant_Muertes</th>\n",
              "      <th>Mortalidad</th>\n",
              "    </tr>\n",
              "  </thead>\n",
              "  <tbody>\n",
              "    <tr>\n",
              "      <th>0</th>\n",
              "      <td>9</td>\n",
              "      <td>Bacanora</td>\n",
              "      <td>2020</td>\n",
              "      <td>3</td>\n",
              "      <td>395.26</td>\n",
              "    </tr>\n",
              "    <tr>\n",
              "      <th>1</th>\n",
              "      <td>65</td>\n",
              "      <td>Tubutama</td>\n",
              "      <td>2020</td>\n",
              "      <td>5</td>\n",
              "      <td>339.44</td>\n",
              "    </tr>\n",
              "    <tr>\n",
              "      <th>2</th>\n",
              "      <td>32</td>\n",
              "      <td>Huásabas</td>\n",
              "      <td>2020</td>\n",
              "      <td>3</td>\n",
              "      <td>337.84</td>\n",
              "    </tr>\n",
              "    <tr>\n",
              "      <th>3</th>\n",
              "      <td>7</td>\n",
              "      <td>Atil</td>\n",
              "      <td>2020</td>\n",
              "      <td>2</td>\n",
              "      <td>319.49</td>\n",
              "    </tr>\n",
              "    <tr>\n",
              "      <th>4</th>\n",
              "      <td>67</td>\n",
              "      <td>Villa Hidalgo</td>\n",
              "      <td>2020</td>\n",
              "      <td>4</td>\n",
              "      <td>279.92</td>\n",
              "    </tr>\n",
              "  </tbody>\n",
              "</table>\n",
              "</div>\n",
              "      <button class=\"colab-df-convert\" onclick=\"convertToInteractive('df-fad20f45-eb67-42e6-b447-d52cff7f8899')\"\n",
              "              title=\"Convert this dataframe to an interactive table.\"\n",
              "              style=\"display:none;\">\n",
              "        \n",
              "  <svg xmlns=\"http://www.w3.org/2000/svg\" height=\"24px\"viewBox=\"0 0 24 24\"\n",
              "       width=\"24px\">\n",
              "    <path d=\"M0 0h24v24H0V0z\" fill=\"none\"/>\n",
              "    <path d=\"M18.56 5.44l.94 2.06.94-2.06 2.06-.94-2.06-.94-.94-2.06-.94 2.06-2.06.94zm-11 1L8.5 8.5l.94-2.06 2.06-.94-2.06-.94L8.5 2.5l-.94 2.06-2.06.94zm10 10l.94 2.06.94-2.06 2.06-.94-2.06-.94-.94-2.06-.94 2.06-2.06.94z\"/><path d=\"M17.41 7.96l-1.37-1.37c-.4-.4-.92-.59-1.43-.59-.52 0-1.04.2-1.43.59L10.3 9.45l-7.72 7.72c-.78.78-.78 2.05 0 2.83L4 21.41c.39.39.9.59 1.41.59.51 0 1.02-.2 1.41-.59l7.78-7.78 2.81-2.81c.8-.78.8-2.07 0-2.86zM5.41 20L4 18.59l7.72-7.72 1.47 1.35L5.41 20z\"/>\n",
              "  </svg>\n",
              "      </button>\n",
              "      \n",
              "  <style>\n",
              "    .colab-df-container {\n",
              "      display:flex;\n",
              "      flex-wrap:wrap;\n",
              "      gap: 12px;\n",
              "    }\n",
              "\n",
              "    .colab-df-convert {\n",
              "      background-color: #E8F0FE;\n",
              "      border: none;\n",
              "      border-radius: 50%;\n",
              "      cursor: pointer;\n",
              "      display: none;\n",
              "      fill: #1967D2;\n",
              "      height: 32px;\n",
              "      padding: 0 0 0 0;\n",
              "      width: 32px;\n",
              "    }\n",
              "\n",
              "    .colab-df-convert:hover {\n",
              "      background-color: #E2EBFA;\n",
              "      box-shadow: 0px 1px 2px rgba(60, 64, 67, 0.3), 0px 1px 3px 1px rgba(60, 64, 67, 0.15);\n",
              "      fill: #174EA6;\n",
              "    }\n",
              "\n",
              "    [theme=dark] .colab-df-convert {\n",
              "      background-color: #3B4455;\n",
              "      fill: #D2E3FC;\n",
              "    }\n",
              "\n",
              "    [theme=dark] .colab-df-convert:hover {\n",
              "      background-color: #434B5C;\n",
              "      box-shadow: 0px 1px 3px 1px rgba(0, 0, 0, 0.15);\n",
              "      filter: drop-shadow(0px 1px 2px rgba(0, 0, 0, 0.3));\n",
              "      fill: #FFFFFF;\n",
              "    }\n",
              "  </style>\n",
              "\n",
              "      <script>\n",
              "        const buttonEl =\n",
              "          document.querySelector('#df-fad20f45-eb67-42e6-b447-d52cff7f8899 button.colab-df-convert');\n",
              "        buttonEl.style.display =\n",
              "          google.colab.kernel.accessAllowed ? 'block' : 'none';\n",
              "\n",
              "        async function convertToInteractive(key) {\n",
              "          const element = document.querySelector('#df-fad20f45-eb67-42e6-b447-d52cff7f8899');\n",
              "          const dataTable =\n",
              "            await google.colab.kernel.invokeFunction('convertToInteractive',\n",
              "                                                     [key], {});\n",
              "          if (!dataTable) return;\n",
              "\n",
              "          const docLinkHtml = 'Like what you see? Visit the ' +\n",
              "            '<a target=\"_blank\" href=https://colab.research.google.com/notebooks/data_table.ipynb>data table notebook</a>'\n",
              "            + ' to learn more about interactive tables.';\n",
              "          element.innerHTML = '';\n",
              "          dataTable['output_type'] = 'display_data';\n",
              "          await google.colab.output.renderOutput(dataTable, element);\n",
              "          const docLink = document.createElement('div');\n",
              "          docLink.innerHTML = docLinkHtml;\n",
              "          element.appendChild(docLink);\n",
              "        }\n",
              "      </script>\n",
              "    </div>\n",
              "  </div>\n",
              "  "
            ]
          },
          "metadata": {},
          "execution_count": 37
        }
      ]
    },
    {
      "cell_type": "code",
      "source": [
        "df_Mortalidad.info()"
      ],
      "metadata": {
        "colab": {
          "base_uri": "https://localhost:8080/"
        },
        "id": "w2DmcMYP0MmK",
        "outputId": "f2b558e8-38ba-4e4f-ba4a-ca093b1f6f5d"
      },
      "execution_count": null,
      "outputs": [
        {
          "output_type": "stream",
          "name": "stdout",
          "text": [
            "<class 'pandas.core.frame.DataFrame'>\n",
            "RangeIndex: 72 entries, 0 to 71\n",
            "Data columns (total 5 columns):\n",
            " #   Column            Non-Null Count  Dtype \n",
            "---  ------            --------------  ----- \n",
            " 0   Cd_Municipio      72 non-null     int64 \n",
            " 1   Nombre_Municipio  72 non-null     object\n",
            " 2   Anio              72 non-null     int64 \n",
            " 3   Cant_Muertes      72 non-null     int64 \n",
            " 4   Mortalidad        72 non-null     object\n",
            "dtypes: int64(3), object(2)\n",
            "memory usage: 2.9+ KB\n"
          ]
        }
      ]
    },
    {
      "cell_type": "code",
      "source": [
        "df_Mortalidad[\"Mortalidad\"] = pd.to_numeric(df_Mortalidad[\"Mortalidad\"])"
      ],
      "metadata": {
        "id": "pJq1LB3T3M8H"
      },
      "execution_count": null,
      "outputs": []
    },
    {
      "cell_type": "code",
      "source": [
        "df_Mortalidad.plot(x=\"Nombre_Municipio\", y=\"Mortalidad\", kind=\"bar\", xlabel='Municipio', ylabel='Mortalidad por cada 100,000 habitantes', figsize=(16,6))"
      ],
      "metadata": {
        "colab": {
          "base_uri": "https://localhost:8080/",
          "height": 538
        },
        "id": "x2nTmGVJyycd",
        "outputId": "75204790-6d81-4966-cbc8-d5f433f7a735"
      },
      "execution_count": null,
      "outputs": [
        {
          "output_type": "execute_result",
          "data": {
            "text/plain": [
              "<matplotlib.axes._subplots.AxesSubplot at 0x7f3e921eecd0>"
            ]
          },
          "metadata": {},
          "execution_count": 40
        },
        {
          "output_type": "display_data",
          "data": {
            "text/plain": [
              "<Figure size 1152x432 with 1 Axes>"
            ],
            "image/png": "[encoded data removed]"
          },
          "metadata": {
            "needs_background": "light"
          }
        }
      ]
    }
  ]
}